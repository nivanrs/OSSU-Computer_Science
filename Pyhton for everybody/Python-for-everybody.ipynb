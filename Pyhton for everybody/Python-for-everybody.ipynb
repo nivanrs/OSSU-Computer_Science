{
 "cells": [
  {
   "cell_type": "markdown",
   "id": "d4c6ed31",
   "metadata": {},
   "source": [
    "# Python For Everybody\n",
    "\n",
    "Nivan Ramadhan Sugiantoro\n",
    "\n",
    "link: https://www.py4e.com/lessons"
   ]
  },
  {
   "cell_type": "markdown",
   "id": "ad4c513a",
   "metadata": {},
   "source": [
    "## Installing Pyhton\n",
    "I have already installed python using Anaconda 3. I have using my school account in this course."
   ]
  },
  {
   "cell_type": "markdown",
   "id": "747c2fa9",
   "metadata": {},
   "source": [
    "Image of the program being edited in a text editor \n",
    "\n",
    "Image of the program being executed in the command line or terminal \n"
   ]
  }
 ],
 "metadata": {
  "kernelspec": {
   "display_name": "Python 3",
   "language": "python",
   "name": "python3"
  },
  "language_info": {
   "codemirror_mode": {
    "name": "ipython",
    "version": 3
   },
   "file_extension": ".py",
   "mimetype": "text/x-python",
   "name": "python",
   "nbconvert_exporter": "python",
   "pygments_lexer": "ipython3",
   "version": "3.8.8"
  }
 },
 "nbformat": 4,
 "nbformat_minor": 5
}
